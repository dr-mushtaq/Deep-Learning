{
  "nbformat": 4,
  "nbformat_minor": 0,
  "metadata": {
    "colab": {
      "provenance": [],
      "toc_visible": true,
      "authorship_tag": "ABX9TyPaS5yyoxc9aP+IdmSpg1CY",
      "include_colab_link": true
    },
    "kernelspec": {
      "name": "python3",
      "display_name": "Python 3"
    },
    "language_info": {
      "name": "python"
    }
  },
  "cells": [
    {
      "cell_type": "markdown",
      "metadata": {
        "id": "view-in-github",
        "colab_type": "text"
      },
      "source": [
        "<a href=\"https://colab.research.google.com/github/hussain0048/Deep-Learning/blob/master/Deep_Learning.ipynb\" target=\"_parent\"><img src=\"https://colab.research.google.com/assets/colab-badge.svg\" alt=\"Open In Colab\"/></a>"
      ]
    },
    {
      "cell_type": "code",
      "execution_count": null,
      "metadata": {
        "id": "EQlVDtrthPxr"
      },
      "outputs": [],
      "source": []
    },
    {
      "cell_type": "markdown",
      "source": [
        "# **Course 1: Neural Networks and Deep Learning**"
      ],
      "metadata": {
        "id": "zEkAuj0d9ulF"
      }
    },
    {
      "cell_type": "markdown",
      "source": [
        "##**📚Chapter2: Logistic Regression as a Neural Network**"
      ],
      "metadata": {
        "id": "WZ2_WBe59927"
      }
    },
    {
      "cell_type": "markdown",
      "source": [
        "### **Gradient Descent on m Examples**"
      ],
      "metadata": {
        "id": "WCj5zRYB-NMr"
      }
    },
    {
      "cell_type": "code",
      "source": [
        "import numpy as np\n",
        "\n",
        "def gradient_descent(X, y, learning_rate, num_iterations):\n",
        "    \"\"\"\n",
        "    Performs gradient descent to minimize the MSE loss function for a linear regression model.\n",
        "\n",
        "    Args:\n",
        "        X (np.ndarray): The training data features.\n",
        "        y (np.ndarray): The training data labels.\n",
        "        learning_rate (float): The learning rate.\n",
        "        num_iterations (int): The number of iterations to perform.\n",
        "\n",
        "    Returns:\n",
        "        np.ndarray: The optimal weights.\n",
        "    \"\"\"\n",
        "    weights = np.zeros(X.shape[1])\n",
        "\n",
        "    for _ in range(num_iterations):\n",
        "        predictions = np.dot(X, weights)\n",
        "        errors = predictions - y\n",
        "        gradients = np.dot(errors.T, X).T\n",
        "\n",
        "        weights -= learning_rate * gradients\n",
        "\n",
        "    return weights\n"
      ],
      "metadata": {
        "id": "ecx50xyH-XMl"
      },
      "execution_count": null,
      "outputs": []
    },
    {
      "cell_type": "code",
      "source": [
        "# Generate some synthetic data\n",
        "X = np.random.randn(100, 2)\n",
        "y = 2 * X[:, 0] + 1 + np.random.randn(100)"
      ],
      "metadata": {
        "id": "s5lrBC_C-fLt"
      },
      "execution_count": null,
      "outputs": []
    },
    {
      "cell_type": "code",
      "source": [
        "# Train the linear regression model using gradient descent\n",
        "weights = gradient_descent(X, y, 0.01, 1000)\n",
        "\n",
        "print(\"Optimal weights:\", weights)"
      ],
      "metadata": {
        "id": "YXu01qdB-kPD",
        "outputId": "addafdc5-0591-4dc8-86db-1e72a9d470f5",
        "colab": {
          "base_uri": "https://localhost:8080/"
        }
      },
      "execution_count": null,
      "outputs": [
        {
          "output_type": "stream",
          "name": "stdout",
          "text": [
            "Optimal weights: [ 1.62817141 -0.14618265]\n"
          ]
        }
      ]
    },
    {
      "cell_type": "markdown",
      "source": [
        "## 📚**Chapter3: Python and Vectorization**"
      ],
      "metadata": {
        "id": "NDj-b7m75P6e"
      }
    },
    {
      "cell_type": "markdown",
      "source": [
        "## **Vectorizing Logistic Regression**"
      ],
      "metadata": {
        "id": "SNZPlTbX5Yj1"
      }
    },
    {
      "cell_type": "code",
      "source": [
        "import numpy as np\n",
        "from scipy.special import expit  # sigmoid function\n",
        "#2- Define Data:\n",
        "X = np.array([[1, 2], [3, 4], [5, 6], [7, 8]])  # features\n",
        "y = np.array([0, 1, 1, 0])  # labels\n",
        "#3. Initialize Theta:\n",
        "theta = np.zeros(X.shape[1])  # initialize weights with zeros"
      ],
      "metadata": {
        "id": "n5sfOWKN5g2S"
      },
      "execution_count": null,
      "outputs": []
    },
    {
      "cell_type": "code",
      "source": [
        "#4. Define Functions:\n",
        "def sigmoid(z):\n",
        "    return expit(z)\n",
        "\n",
        "def hypothesis(X, theta):\n",
        "    return sigmoid(np.dot(X, theta))\n",
        "\n",
        "def cost_function(X, y, theta, lambda_reg=0):\n",
        "    m = X.shape[0]\n",
        "    predictions = hypothesis(X, theta)\n",
        "    cost = -(1.0 / m) * np.sum(y * np.log(predictions) + (1 - y) * np.log(1 - predictions))\n",
        "    reg_cost = (lambda_reg / (2 * m)) * np.sum(np.power(theta[1:], 2))\n",
        "    return cost + reg_cost\n",
        "\n",
        "def gradient_descent(X, y, theta, alpha, lambda_reg=0):\n",
        "    m = X.shape[0]\n",
        "    predictions = hypothesis(X, theta)\n",
        "    dz = predictions - y\n",
        "    dw = (1.0 / m) * np.dot(X.T, dz)\n",
        "    dw[1:] += (lambda_reg / m) * theta[1:]"
      ],
      "metadata": {
        "id": "uusajFwJ5rhG"
      },
      "execution_count": null,
      "outputs": []
    },
    {
      "cell_type": "code",
      "source": [
        "#5. Training Loop:\n",
        "alpha = 0.1  # learning rate\n",
        "lambda_reg = 0.1  # regularization parameter\n",
        "iterations = 1000"
      ],
      "metadata": {
        "id": "yAFqsAQb5v8-"
      },
      "execution_count": null,
      "outputs": []
    },
    {
      "cell_type": "code",
      "source": [
        "for _ in range(iterations):\n",
        "    gradient = gradient_descent(X, y, theta, alpha, lambda_reg)\n",
        "    theta -= alpha * gradient\n",
        "\n",
        "print(\"Final Theta:\", theta)"
      ],
      "metadata": {
        "colab": {
          "base_uri": "https://localhost:8080/"
        },
        "id": "X1X4LfJy6SRN",
        "outputId": "8c2d3c0e-3635-4843-deed-0c8994ca89fe"
      },
      "execution_count": null,
      "outputs": [
        {
          "output_type": "stream",
          "name": "stdout",
          "text": [
            "Final Theta: [0. 0.]\n"
          ]
        }
      ]
    },
    {
      "cell_type": "markdown",
      "source": [
        "# **Course 2: Improving Deep Neural Networks**"
      ],
      "metadata": {
        "id": "LMjVe0wd9-AV"
      }
    },
    {
      "cell_type": "markdown",
      "source": [
        "## 📚 Chapter 1: Practical Aspects of Deep Learning"
      ],
      "metadata": {
        "id": "dXHhFUMn-IyZ"
      }
    },
    {
      "cell_type": "markdown",
      "source": [
        "### **Regularization**"
      ],
      "metadata": {
        "id": "WAdupeHK-PL5"
      }
    },
    {
      "cell_type": "markdown",
      "source": [
        "**Regularization in Logistic Regression**"
      ],
      "metadata": {
        "id": "gCM5BHzn-Z1y"
      }
    },
    {
      "cell_type": "code",
      "source": [
        "import numpy as np\n",
        "from sklearn.linear_model import LogisticRegression\n",
        "from sklearn.model_selection import train_test_split\n",
        "from sklearn.datasets import load_iris\n",
        "from sklearn.metrics import accuracy_score\n",
        "\n",
        "# Load dataset\n",
        "data = load_iris()\n",
        "X, y = data.data, data.target\n",
        "X = X[y != 2]  # Use only two classes for binary classification\n",
        "y = y[y != 2]\n",
        "\n",
        "# Split data into training and test sets\n",
        "X_train, X_test, y_train, y_test = train_test_split(X, y, test_size=0.2, random_state=42)\n",
        "\n",
        "# Logistic Regression without regularization\n",
        "model = LogisticRegression(penalty='none', solver='lbfgs')\n",
        "model.fit(X_train, y_train)\n",
        "y_pred = model.predict(X_test)\n",
        "print(\"Accuracy without regularization:\", accuracy_score(y_test, y_pred))\n",
        "\n",
        "# Logistic Regression with L2 regularization\n",
        "model = LogisticRegression(penalty='l2', C=1.0, solver='lbfgs')\n",
        "model.fit(X_train, y_train)\n",
        "y_pred = model.predict(X_test)\n",
        "print(\"Accuracy with L2 regularization:\", accuracy_score(y_test, y_pred))\n"
      ],
      "metadata": {
        "colab": {
          "base_uri": "https://localhost:8080/"
        },
        "id": "4YNW6t5J-ZE6",
        "outputId": "4612ad18-66d8-4594-dd1c-b97422b15b08"
      },
      "execution_count": 1,
      "outputs": [
        {
          "output_type": "stream",
          "name": "stdout",
          "text": [
            "Accuracy without regularization: 1.0\n",
            "Accuracy with L2 regularization: 1.0\n"
          ]
        },
        {
          "output_type": "stream",
          "name": "stderr",
          "text": [
            "/usr/local/lib/python3.10/dist-packages/sklearn/linear_model/_logistic.py:1173: FutureWarning: `penalty='none'`has been deprecated in 1.2 and will be removed in 1.4. To keep the past behaviour, set `penalty=None`.\n",
            "  warnings.warn(\n"
          ]
        }
      ]
    },
    {
      "cell_type": "markdown",
      "source": [
        "**Role of Lambda in Regularization**"
      ],
      "metadata": {
        "id": "lu3pwEPz-yKy"
      }
    },
    {
      "cell_type": "code",
      "source": [
        "from sklearn.model_selection import GridSearchCV\n",
        "\n",
        "# Grid search to find the best lambda (C in scikit-learn, where C = 1/lambda)\n",
        "param_grid = {'C': [0.01, 0.1, 1, 10, 100]}\n",
        "grid_search = GridSearchCV(LogisticRegression(penalty='l2', solver='lbfgs'), param_grid, cv=5)\n",
        "grid_search.fit(X_train, y_train)\n",
        "\n",
        "print(\"Best parameter (C):\", grid_search.best_params_)\n",
        "print(\"Best cross-validation score:\", grid_search.best_score_)\n"
      ],
      "metadata": {
        "colab": {
          "base_uri": "https://localhost:8080/"
        },
        "id": "nJFmOdNz-2Jm",
        "outputId": "287fa62b-69bd-41d2-d36f-7b3751f25e10"
      },
      "execution_count": 2,
      "outputs": [
        {
          "output_type": "stream",
          "name": "stdout",
          "text": [
            "Best parameter (C): {'C': 0.01}\n",
            "Best cross-validation score: 1.0\n"
          ]
        }
      ]
    },
    {
      "cell_type": "markdown",
      "source": [
        "**L2 Regularization for Neural Networks**"
      ],
      "metadata": {
        "id": "q41acvDv--Lz"
      }
    },
    {
      "cell_type": "code",
      "source": [
        "import tensorflow as tf\n",
        "from tensorflow.keras.models import Sequential\n",
        "from tensorflow.keras.layers import Dense\n",
        "from tensorflow.keras.regularizers import l2\n",
        "\n",
        "# Create a simple neural network with L2 regularization\n",
        "model = Sequential([\n",
        "    Dense(64, input_dim=4, activation='relu', kernel_regularizer=l2(0.01)),\n",
        "    Dense(64, activation='relu', kernel_regularizer=l2(0.01)),\n",
        "    Dense(1, activation='sigmoid', kernel_regularizer=l2(0.01))\n",
        "])\n",
        "\n",
        "model.compile(optimizer='adam', loss='binary_crossentropy', metrics=['accuracy'])\n",
        "\n",
        "# Train the model\n",
        "model.fit(X_train, y_train, epochs=100, batch_size=10, validation_data=(X_test, y_test))\n"
      ],
      "metadata": {
        "colab": {
          "base_uri": "https://localhost:8080/"
        },
        "id": "mnVieGud_DLT",
        "outputId": "d89f241e-a396-4889-d333-8b2ebec20537"
      },
      "execution_count": 3,
      "outputs": [
        {
          "output_type": "stream",
          "name": "stdout",
          "text": [
            "Epoch 1/100\n",
            "8/8 [==============================] - 2s 42ms/step - loss: 1.6262 - accuracy: 0.4750 - val_loss: 1.3614 - val_accuracy: 0.6000\n",
            "Epoch 2/100\n",
            "8/8 [==============================] - 0s 11ms/step - loss: 1.3007 - accuracy: 0.6250 - val_loss: 1.2801 - val_accuracy: 0.4000\n",
            "Epoch 3/100\n",
            "8/8 [==============================] - 0s 10ms/step - loss: 1.1785 - accuracy: 0.5500 - val_loss: 1.1300 - val_accuracy: 0.7500\n",
            "Epoch 4/100\n",
            "8/8 [==============================] - 0s 9ms/step - loss: 1.0626 - accuracy: 0.9500 - val_loss: 0.9676 - val_accuracy: 1.0000\n",
            "Epoch 5/100\n",
            "8/8 [==============================] - 0s 8ms/step - loss: 0.9460 - accuracy: 1.0000 - val_loss: 0.8748 - val_accuracy: 1.0000\n",
            "Epoch 6/100\n",
            "8/8 [==============================] - 0s 7ms/step - loss: 0.8398 - accuracy: 1.0000 - val_loss: 0.7742 - val_accuracy: 1.0000\n",
            "Epoch 7/100\n",
            "8/8 [==============================] - 0s 11ms/step - loss: 0.7476 - accuracy: 1.0000 - val_loss: 0.6865 - val_accuracy: 1.0000\n",
            "Epoch 8/100\n",
            "8/8 [==============================] - 0s 11ms/step - loss: 0.6661 - accuracy: 1.0000 - val_loss: 0.6022 - val_accuracy: 1.0000\n",
            "Epoch 9/100\n",
            "8/8 [==============================] - 0s 9ms/step - loss: 0.6010 - accuracy: 1.0000 - val_loss: 0.5451 - val_accuracy: 1.0000\n",
            "Epoch 10/100\n",
            "8/8 [==============================] - 0s 10ms/step - loss: 0.5444 - accuracy: 1.0000 - val_loss: 0.5031 - val_accuracy: 1.0000\n",
            "Epoch 11/100\n",
            "8/8 [==============================] - 0s 7ms/step - loss: 0.4993 - accuracy: 1.0000 - val_loss: 0.4629 - val_accuracy: 1.0000\n",
            "Epoch 12/100\n",
            "8/8 [==============================] - 0s 10ms/step - loss: 0.4608 - accuracy: 1.0000 - val_loss: 0.4242 - val_accuracy: 1.0000\n",
            "Epoch 13/100\n",
            "8/8 [==============================] - 0s 11ms/step - loss: 0.4296 - accuracy: 1.0000 - val_loss: 0.3999 - val_accuracy: 1.0000\n",
            "Epoch 14/100\n",
            "8/8 [==============================] - 0s 8ms/step - loss: 0.4024 - accuracy: 1.0000 - val_loss: 0.3764 - val_accuracy: 1.0000\n",
            "Epoch 15/100\n",
            "8/8 [==============================] - 0s 10ms/step - loss: 0.3797 - accuracy: 1.0000 - val_loss: 0.3573 - val_accuracy: 1.0000\n",
            "Epoch 16/100\n",
            "8/8 [==============================] - 0s 10ms/step - loss: 0.3599 - accuracy: 1.0000 - val_loss: 0.3394 - val_accuracy: 1.0000\n",
            "Epoch 17/100\n",
            "8/8 [==============================] - 0s 11ms/step - loss: 0.3425 - accuracy: 1.0000 - val_loss: 0.3225 - val_accuracy: 1.0000\n",
            "Epoch 18/100\n",
            "8/8 [==============================] - 0s 10ms/step - loss: 0.3273 - accuracy: 1.0000 - val_loss: 0.3084 - val_accuracy: 1.0000\n",
            "Epoch 19/100\n",
            "8/8 [==============================] - 0s 11ms/step - loss: 0.3130 - accuracy: 1.0000 - val_loss: 0.2979 - val_accuracy: 1.0000\n",
            "Epoch 20/100\n",
            "8/8 [==============================] - 0s 10ms/step - loss: 0.3007 - accuracy: 1.0000 - val_loss: 0.2864 - val_accuracy: 1.0000\n",
            "Epoch 21/100\n",
            "8/8 [==============================] - 0s 8ms/step - loss: 0.2895 - accuracy: 1.0000 - val_loss: 0.2756 - val_accuracy: 1.0000\n",
            "Epoch 22/100\n",
            "8/8 [==============================] - 0s 10ms/step - loss: 0.2791 - accuracy: 1.0000 - val_loss: 0.2663 - val_accuracy: 1.0000\n",
            "Epoch 23/100\n",
            "8/8 [==============================] - 0s 7ms/step - loss: 0.2699 - accuracy: 1.0000 - val_loss: 0.2574 - val_accuracy: 1.0000\n",
            "Epoch 24/100\n",
            "8/8 [==============================] - 0s 10ms/step - loss: 0.2614 - accuracy: 1.0000 - val_loss: 0.2494 - val_accuracy: 1.0000\n",
            "Epoch 25/100\n",
            "8/8 [==============================] - 0s 8ms/step - loss: 0.2534 - accuracy: 1.0000 - val_loss: 0.2418 - val_accuracy: 1.0000\n",
            "Epoch 26/100\n",
            "8/8 [==============================] - 0s 9ms/step - loss: 0.2462 - accuracy: 1.0000 - val_loss: 0.2360 - val_accuracy: 1.0000\n",
            "Epoch 27/100\n",
            "8/8 [==============================] - 0s 7ms/step - loss: 0.2393 - accuracy: 1.0000 - val_loss: 0.2293 - val_accuracy: 1.0000\n",
            "Epoch 28/100\n",
            "8/8 [==============================] - 0s 13ms/step - loss: 0.2331 - accuracy: 1.0000 - val_loss: 0.2231 - val_accuracy: 1.0000\n",
            "Epoch 29/100\n",
            "8/8 [==============================] - 0s 10ms/step - loss: 0.2272 - accuracy: 1.0000 - val_loss: 0.2183 - val_accuracy: 1.0000\n",
            "Epoch 30/100\n",
            "8/8 [==============================] - 0s 10ms/step - loss: 0.2218 - accuracy: 1.0000 - val_loss: 0.2128 - val_accuracy: 1.0000\n",
            "Epoch 31/100\n",
            "8/8 [==============================] - 0s 8ms/step - loss: 0.2167 - accuracy: 1.0000 - val_loss: 0.2081 - val_accuracy: 1.0000\n",
            "Epoch 32/100\n",
            "8/8 [==============================] - 0s 8ms/step - loss: 0.2120 - accuracy: 1.0000 - val_loss: 0.2031 - val_accuracy: 1.0000\n",
            "Epoch 33/100\n",
            "8/8 [==============================] - 0s 7ms/step - loss: 0.2076 - accuracy: 1.0000 - val_loss: 0.1998 - val_accuracy: 1.0000\n",
            "Epoch 34/100\n",
            "8/8 [==============================] - 0s 8ms/step - loss: 0.2033 - accuracy: 1.0000 - val_loss: 0.1952 - val_accuracy: 1.0000\n",
            "Epoch 35/100\n",
            "8/8 [==============================] - 0s 10ms/step - loss: 0.1992 - accuracy: 1.0000 - val_loss: 0.1915 - val_accuracy: 1.0000\n",
            "Epoch 36/100\n",
            "8/8 [==============================] - 0s 7ms/step - loss: 0.1955 - accuracy: 1.0000 - val_loss: 0.1881 - val_accuracy: 1.0000\n",
            "Epoch 37/100\n",
            "8/8 [==============================] - 0s 7ms/step - loss: 0.1920 - accuracy: 1.0000 - val_loss: 0.1853 - val_accuracy: 1.0000\n",
            "Epoch 38/100\n",
            "8/8 [==============================] - 0s 8ms/step - loss: 0.1886 - accuracy: 1.0000 - val_loss: 0.1816 - val_accuracy: 1.0000\n",
            "Epoch 39/100\n",
            "8/8 [==============================] - 0s 9ms/step - loss: 0.1854 - accuracy: 1.0000 - val_loss: 0.1780 - val_accuracy: 1.0000\n",
            "Epoch 40/100\n",
            "8/8 [==============================] - 0s 10ms/step - loss: 0.1824 - accuracy: 1.0000 - val_loss: 0.1756 - val_accuracy: 1.0000\n",
            "Epoch 41/100\n",
            "8/8 [==============================] - 0s 10ms/step - loss: 0.1794 - accuracy: 1.0000 - val_loss: 0.1726 - val_accuracy: 1.0000\n",
            "Epoch 42/100\n",
            "8/8 [==============================] - 0s 10ms/step - loss: 0.1765 - accuracy: 1.0000 - val_loss: 0.1702 - val_accuracy: 1.0000\n",
            "Epoch 43/100\n",
            "8/8 [==============================] - 0s 9ms/step - loss: 0.1739 - accuracy: 1.0000 - val_loss: 0.1679 - val_accuracy: 1.0000\n",
            "Epoch 44/100\n",
            "8/8 [==============================] - 0s 13ms/step - loss: 0.1713 - accuracy: 1.0000 - val_loss: 0.1647 - val_accuracy: 1.0000\n",
            "Epoch 45/100\n",
            "8/8 [==============================] - 0s 11ms/step - loss: 0.1689 - accuracy: 1.0000 - val_loss: 0.1628 - val_accuracy: 1.0000\n",
            "Epoch 46/100\n",
            "8/8 [==============================] - 0s 9ms/step - loss: 0.1665 - accuracy: 1.0000 - val_loss: 0.1601 - val_accuracy: 1.0000\n",
            "Epoch 47/100\n",
            "8/8 [==============================] - 0s 9ms/step - loss: 0.1642 - accuracy: 1.0000 - val_loss: 0.1585 - val_accuracy: 1.0000\n",
            "Epoch 48/100\n",
            "8/8 [==============================] - 0s 8ms/step - loss: 0.1620 - accuracy: 1.0000 - val_loss: 0.1564 - val_accuracy: 1.0000\n",
            "Epoch 49/100\n",
            "8/8 [==============================] - 0s 9ms/step - loss: 0.1599 - accuracy: 1.0000 - val_loss: 0.1539 - val_accuracy: 1.0000\n",
            "Epoch 50/100\n",
            "8/8 [==============================] - 0s 11ms/step - loss: 0.1581 - accuracy: 1.0000 - val_loss: 0.1529 - val_accuracy: 1.0000\n",
            "Epoch 51/100\n",
            "8/8 [==============================] - 0s 9ms/step - loss: 0.1559 - accuracy: 1.0000 - val_loss: 0.1499 - val_accuracy: 1.0000\n",
            "Epoch 52/100\n",
            "8/8 [==============================] - 0s 13ms/step - loss: 0.1541 - accuracy: 1.0000 - val_loss: 0.1485 - val_accuracy: 1.0000\n",
            "Epoch 53/100\n",
            "8/8 [==============================] - 0s 10ms/step - loss: 0.1521 - accuracy: 1.0000 - val_loss: 0.1464 - val_accuracy: 1.0000\n",
            "Epoch 54/100\n",
            "8/8 [==============================] - 0s 9ms/step - loss: 0.1504 - accuracy: 1.0000 - val_loss: 0.1447 - val_accuracy: 1.0000\n",
            "Epoch 55/100\n",
            "8/8 [==============================] - 0s 8ms/step - loss: 0.1486 - accuracy: 1.0000 - val_loss: 0.1435 - val_accuracy: 1.0000\n",
            "Epoch 56/100\n",
            "8/8 [==============================] - 0s 9ms/step - loss: 0.1469 - accuracy: 1.0000 - val_loss: 0.1415 - val_accuracy: 1.0000\n",
            "Epoch 57/100\n",
            "8/8 [==============================] - 0s 8ms/step - loss: 0.1455 - accuracy: 1.0000 - val_loss: 0.1402 - val_accuracy: 1.0000\n",
            "Epoch 58/100\n",
            "8/8 [==============================] - 0s 10ms/step - loss: 0.1437 - accuracy: 1.0000 - val_loss: 0.1384 - val_accuracy: 1.0000\n",
            "Epoch 59/100\n",
            "8/8 [==============================] - 0s 7ms/step - loss: 0.1424 - accuracy: 1.0000 - val_loss: 0.1375 - val_accuracy: 1.0000\n",
            "Epoch 60/100\n",
            "8/8 [==============================] - 0s 7ms/step - loss: 0.1410 - accuracy: 1.0000 - val_loss: 0.1354 - val_accuracy: 1.0000\n",
            "Epoch 61/100\n",
            "8/8 [==============================] - 0s 8ms/step - loss: 0.1393 - accuracy: 1.0000 - val_loss: 0.1343 - val_accuracy: 1.0000\n",
            "Epoch 62/100\n",
            "8/8 [==============================] - 0s 7ms/step - loss: 0.1379 - accuracy: 1.0000 - val_loss: 0.1331 - val_accuracy: 1.0000\n",
            "Epoch 63/100\n",
            "8/8 [==============================] - 0s 7ms/step - loss: 0.1368 - accuracy: 1.0000 - val_loss: 0.1312 - val_accuracy: 1.0000\n",
            "Epoch 64/100\n",
            "8/8 [==============================] - 0s 8ms/step - loss: 0.1354 - accuracy: 1.0000 - val_loss: 0.1308 - val_accuracy: 1.0000\n",
            "Epoch 65/100\n",
            "8/8 [==============================] - 0s 8ms/step - loss: 0.1341 - accuracy: 1.0000 - val_loss: 0.1290 - val_accuracy: 1.0000\n",
            "Epoch 66/100\n",
            "8/8 [==============================] - 0s 16ms/step - loss: 0.1328 - accuracy: 1.0000 - val_loss: 0.1281 - val_accuracy: 1.0000\n",
            "Epoch 67/100\n",
            "8/8 [==============================] - 0s 16ms/step - loss: 0.1317 - accuracy: 1.0000 - val_loss: 0.1267 - val_accuracy: 1.0000\n",
            "Epoch 68/100\n",
            "8/8 [==============================] - 0s 15ms/step - loss: 0.1305 - accuracy: 1.0000 - val_loss: 0.1253 - val_accuracy: 1.0000\n",
            "Epoch 69/100\n",
            "8/8 [==============================] - 0s 15ms/step - loss: 0.1294 - accuracy: 1.0000 - val_loss: 0.1251 - val_accuracy: 1.0000\n",
            "Epoch 70/100\n",
            "8/8 [==============================] - 0s 14ms/step - loss: 0.1283 - accuracy: 1.0000 - val_loss: 0.1239 - val_accuracy: 1.0000\n",
            "Epoch 71/100\n",
            "8/8 [==============================] - 0s 13ms/step - loss: 0.1272 - accuracy: 1.0000 - val_loss: 0.1222 - val_accuracy: 1.0000\n",
            "Epoch 72/100\n",
            "8/8 [==============================] - 0s 13ms/step - loss: 0.1262 - accuracy: 1.0000 - val_loss: 0.1213 - val_accuracy: 1.0000\n",
            "Epoch 73/100\n",
            "8/8 [==============================] - 0s 15ms/step - loss: 0.1253 - accuracy: 1.0000 - val_loss: 0.1208 - val_accuracy: 1.0000\n",
            "Epoch 74/100\n",
            "8/8 [==============================] - 0s 11ms/step - loss: 0.1241 - accuracy: 1.0000 - val_loss: 0.1192 - val_accuracy: 1.0000\n",
            "Epoch 75/100\n",
            "8/8 [==============================] - 0s 13ms/step - loss: 0.1233 - accuracy: 1.0000 - val_loss: 0.1180 - val_accuracy: 1.0000\n",
            "Epoch 76/100\n",
            "8/8 [==============================] - 0s 16ms/step - loss: 0.1224 - accuracy: 1.0000 - val_loss: 0.1182 - val_accuracy: 1.0000\n",
            "Epoch 77/100\n",
            "8/8 [==============================] - 0s 13ms/step - loss: 0.1214 - accuracy: 1.0000 - val_loss: 0.1170 - val_accuracy: 1.0000\n",
            "Epoch 78/100\n",
            "8/8 [==============================] - 0s 13ms/step - loss: 0.1205 - accuracy: 1.0000 - val_loss: 0.1156 - val_accuracy: 1.0000\n",
            "Epoch 79/100\n",
            "8/8 [==============================] - 0s 10ms/step - loss: 0.1198 - accuracy: 1.0000 - val_loss: 0.1154 - val_accuracy: 1.0000\n",
            "Epoch 80/100\n",
            "8/8 [==============================] - 0s 12ms/step - loss: 0.1188 - accuracy: 1.0000 - val_loss: 0.1142 - val_accuracy: 1.0000\n",
            "Epoch 81/100\n",
            "8/8 [==============================] - 0s 12ms/step - loss: 0.1180 - accuracy: 1.0000 - val_loss: 0.1134 - val_accuracy: 1.0000\n",
            "Epoch 82/100\n",
            "8/8 [==============================] - 0s 10ms/step - loss: 0.1172 - accuracy: 1.0000 - val_loss: 0.1127 - val_accuracy: 1.0000\n",
            "Epoch 83/100\n",
            "8/8 [==============================] - 0s 10ms/step - loss: 0.1167 - accuracy: 1.0000 - val_loss: 0.1114 - val_accuracy: 1.0000\n",
            "Epoch 84/100\n",
            "8/8 [==============================] - 0s 13ms/step - loss: 0.1157 - accuracy: 1.0000 - val_loss: 0.1120 - val_accuracy: 1.0000\n",
            "Epoch 85/100\n",
            "8/8 [==============================] - 0s 12ms/step - loss: 0.1153 - accuracy: 1.0000 - val_loss: 0.1110 - val_accuracy: 1.0000\n",
            "Epoch 86/100\n",
            "8/8 [==============================] - 0s 17ms/step - loss: 0.1143 - accuracy: 1.0000 - val_loss: 0.1091 - val_accuracy: 1.0000\n",
            "Epoch 87/100\n",
            "8/8 [==============================] - 0s 14ms/step - loss: 0.1137 - accuracy: 1.0000 - val_loss: 0.1086 - val_accuracy: 1.0000\n",
            "Epoch 88/100\n",
            "8/8 [==============================] - 0s 13ms/step - loss: 0.1127 - accuracy: 1.0000 - val_loss: 0.1093 - val_accuracy: 1.0000\n",
            "Epoch 89/100\n",
            "8/8 [==============================] - 0s 12ms/step - loss: 0.1128 - accuracy: 1.0000 - val_loss: 0.1088 - val_accuracy: 1.0000\n",
            "Epoch 90/100\n",
            "8/8 [==============================] - 0s 12ms/step - loss: 0.1118 - accuracy: 1.0000 - val_loss: 0.1066 - val_accuracy: 1.0000\n",
            "Epoch 91/100\n",
            "8/8 [==============================] - 0s 11ms/step - loss: 0.1112 - accuracy: 1.0000 - val_loss: 0.1069 - val_accuracy: 1.0000\n",
            "Epoch 92/100\n",
            "8/8 [==============================] - 0s 10ms/step - loss: 0.1103 - accuracy: 1.0000 - val_loss: 0.1061 - val_accuracy: 1.0000\n",
            "Epoch 93/100\n",
            "8/8 [==============================] - 0s 13ms/step - loss: 0.1098 - accuracy: 1.0000 - val_loss: 0.1053 - val_accuracy: 1.0000\n",
            "Epoch 94/100\n",
            "8/8 [==============================] - 0s 10ms/step - loss: 0.1092 - accuracy: 1.0000 - val_loss: 0.1046 - val_accuracy: 1.0000\n",
            "Epoch 95/100\n",
            "8/8 [==============================] - 0s 12ms/step - loss: 0.1089 - accuracy: 1.0000 - val_loss: 0.1048 - val_accuracy: 1.0000\n",
            "Epoch 96/100\n",
            "8/8 [==============================] - 0s 13ms/step - loss: 0.1082 - accuracy: 1.0000 - val_loss: 0.1034 - val_accuracy: 1.0000\n",
            "Epoch 97/100\n",
            "8/8 [==============================] - 0s 9ms/step - loss: 0.1076 - accuracy: 1.0000 - val_loss: 0.1032 - val_accuracy: 1.0000\n",
            "Epoch 98/100\n",
            "8/8 [==============================] - 0s 10ms/step - loss: 0.1071 - accuracy: 1.0000 - val_loss: 0.1033 - val_accuracy: 1.0000\n",
            "Epoch 99/100\n",
            "8/8 [==============================] - 0s 8ms/step - loss: 0.1066 - accuracy: 1.0000 - val_loss: 0.1026 - val_accuracy: 1.0000\n",
            "Epoch 100/100\n",
            "8/8 [==============================] - 0s 11ms/step - loss: 0.1062 - accuracy: 1.0000 - val_loss: 0.1014 - val_accuracy: 1.0000\n"
          ]
        },
        {
          "output_type": "execute_result",
          "data": {
            "text/plain": [
              "<keras.src.callbacks.History at 0x7970b60898a0>"
            ]
          },
          "metadata": {},
          "execution_count": 3
        }
      ]
    }
  ]
}